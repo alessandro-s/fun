{
 "cells": [
  {
   "cell_type": "markdown",
   "metadata": {},
   "source": [
    "# Dr. Strange vs. Dormammu\n",
    "\n",
    "Run the code below (by clicking on the code block, then pressing shift + enter) to see the standoff between Dr. Strange and Dormammu."
   ]
  },
  {
   "cell_type": "code",
   "execution_count": null,
   "metadata": {},
   "outputs": [
    {
     "name": "stdout",
     "output_type": "stream",
     "text": [
      "Random Number 49\n",
      "Dr Strange: Dormammu! I've come to bargain.\n",
      "\n",
      "Dormammu: You've come to die.\n",
      "\n",
      "Dormammu: Your world is now my world, like all worlds. \n",
      "\n",
      "Dr Strange: Dormammu! I've come to bargain.\n",
      "\n",
      "Dormammu: You've come to die.\n",
      "\n",
      "Dormammu: Your world is now my world, like all worlds. \n",
      "\n",
      "Dormammu: What is this?\n",
      "\n",
      "Dormammu: Illusion? - No, this is real.\n",
      "\n"
     ]
    }
   ],
   "source": [
    "import random\n",
    "import time\n",
    "n = 0\n",
    "random_number = random.randint(3,101)\n",
    "#random_number = 3\n",
    "print(\"Random Number {}\".format(random_number))\n",
    "\n",
    "###method\n",
    "def Dr_Strange_Bargain(n):\n",
    "    print(\"Dr Strange: Dormammu! I've come to bargain.\\n\")\n",
    "    time.sleep(2)\n",
    "    print(\"Dormammu: You've come to die.\\n\")\n",
    "    print(\"Dormammu: Your world is now my world, like all worlds. \\n\")\n",
    "    time.sleep(2)\n",
    "    ##Recursion Method\n",
    "    if n == 0:\n",
    "        n = n+1\n",
    "        Dr_Strange_Bargain(n)\n",
    "    elif n == 1:\n",
    "        time.sleep(2)\n",
    "        print(\"Dormammu: What is this?\\n\")\n",
    "        print(\"Dormammu: Illusion? - No, this is real.\\n\")\n",
    "        time.sleep(2)\n",
    "        n = n+1\n",
    "        Dr_Strange_Bargain(n)\n",
    "    elif (n > 1) & (n != random_number):\n",
    "        time.sleep(2)\n",
    "        print(\"Dormammu: You cannot do this forever.\\n\")\n",
    "        print(\"Dormammu: No! Make it stop.\\n\")\n",
    "        print(\"Dr Strange: Actually, I can.\\n This is how things are now. \\n You and me, trapped in this moment, endlessly.\\n\")\n",
    "        time.sleep(2)\n",
    "        n = n+1\n",
    "        Dr_Strange_Bargain(n)\n",
    "    elif n == random_number:\n",
    "        print(\"Dr Strange: Take your zealots from the Earth.\\n End your assault on my world.\\n Never come back.\")\n",
    "        \n",
    "Dr_Strange_Bargain(n)"
   ]
  },
  {
   "cell_type": "code",
   "execution_count": null,
   "metadata": {
    "collapsed": true
   },
   "outputs": [],
   "source": []
  }
 ],
 "metadata": {
  "kernelspec": {
   "display_name": "Python 3",
   "language": "python",
   "name": "python3"
  },
  "language_info": {
   "codemirror_mode": {
    "name": "ipython",
    "version": 3
   },
   "file_extension": ".py",
   "mimetype": "text/x-python",
   "name": "python",
   "nbconvert_exporter": "python",
   "pygments_lexer": "ipython3",
   "version": "3.6.1"
  }
 },
 "nbformat": 4,
 "nbformat_minor": 2
}
